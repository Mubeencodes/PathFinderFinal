{
 "cells": [
  {
   "cell_type": "code",
   "id": "initial_id",
   "metadata": {
    "collapsed": true,
    "ExecuteTime": {
     "end_time": "2025-09-18T16:46:26.388100Z",
     "start_time": "2025-09-18T16:46:18.724937Z"
    }
   },
   "source": [
    "import pandas as pd\n",
    "import os"
   ],
   "outputs": [],
   "execution_count": 1
  },
  {
   "metadata": {
    "ExecuteTime": {
     "end_time": "2025-09-18T17:56:22.490973Z",
     "start_time": "2025-09-18T17:56:22.448002Z"
    }
   },
   "cell_type": "code",
   "source": [
    "ENG_CSV_PATH = \"D:/fastapi/data/New folder/Engineering.csv\"\n",
    "MED_CSV_PATH = \"D:/fastapi/data/New folder/medical_clg_score.csv\"\n",
    "OUTPUT_CSV_PATH = \"D:/fastapi/data/New folder/combined_college_data.csv\"\n"
   ],
   "id": "8dc9796de8c1ddcd",
   "outputs": [],
   "execution_count": 33
  },
  {
   "metadata": {
    "ExecuteTime": {
     "end_time": "2025-09-18T17:56:23.978207Z",
     "start_time": "2025-09-18T17:56:23.514415Z"
    }
   },
   "cell_type": "code",
   "source": [
    "print(\"Loading datasets...\")\n",
    "df_eng = pd.read_csv(ENG_CSV_PATH)\n",
    "df_med = pd.read_csv(MED_CSV_PATH)"
   ],
   "id": "5dc6f471d4c1f3ea",
   "outputs": [
    {
     "name": "stdout",
     "output_type": "stream",
     "text": [
      "Loading datasets...\n"
     ]
    }
   ],
   "execution_count": 34
  },
  {
   "metadata": {
    "ExecuteTime": {
     "end_time": "2025-09-18T17:56:25.158894Z",
     "start_time": "2025-09-18T17:56:25.048484Z"
    }
   },
   "cell_type": "code",
   "source": [
    "print(\"Processing Engineering data...\")\n",
    "eng_cols = ['institute_short', 'institute_type', 'quota', 'category', 'closing_rank', 'round_no']\n",
    "df_eng_processed = df_eng[eng_cols].copy()\n",
    "df_eng_processed['stream'] = 'Engineering'\n"
   ],
   "id": "870987f75b6b0be4",
   "outputs": [
    {
     "name": "stdout",
     "output_type": "stream",
     "text": [
      "Processing Engineering data...\n"
     ]
    }
   ],
   "execution_count": 35
  },
  {
   "metadata": {
    "ExecuteTime": {
     "end_time": "2025-09-18T17:56:25.784328Z",
     "start_time": "2025-09-18T17:56:25.751386Z"
    }
   },
   "cell_type": "code",
   "source": [
    "print(\"Processing Medical data...\")\n",
    "# Check if 'Round' column exists before renaming\n",
    "if ('Round' in df_med.columns):\n",
    "    (df_med.rename(columns={'Round': 'round_no'}, inplace=True))\n",
    "else:\n",
    "    # If 'Round' column is missing, add a default one for compatibility\n",
    "    df_med['round_no'] = 1\n",
    "\n",
    "med_cols = {'College_Name': 'institute_short', 'AllIndiaQuota_ClosingRank': 'closing_rank', 'Category': 'category', 'round_no': 'round_no'}"
   ],
   "id": "94942d609231caa4",
   "outputs": [
    {
     "name": "stdout",
     "output_type": "stream",
     "text": [
      "Processing Medical data...\n"
     ]
    }
   ],
   "execution_count": 36
  },
  {
   "metadata": {
    "ExecuteTime": {
     "end_time": "2025-09-18T17:56:26.610796Z",
     "start_time": "2025-09-18T17:56:26.589314Z"
    }
   },
   "cell_type": "code",
   "source": [
    "valid_med_cols = {k: v for k, v in med_cols.items() if k in df_med.columns}\n",
    "df_med_processed = df_med[list(valid_med_cols.keys())].rename(columns=valid_med_cols).copy()\n"
   ],
   "id": "26a8c14fc83b1331",
   "outputs": [],
   "execution_count": 37
  },
  {
   "metadata": {
    "ExecuteTime": {
     "end_time": "2025-09-18T17:56:27.360825Z",
     "start_time": "2025-09-18T17:56:27.351045Z"
    }
   },
   "cell_type": "code",
   "source": [
    "df_med_processed['institute_type'] = 'Medical College'\n",
    "df_med_processed['quota'] = 'All India'\n",
    "df_med_processed['stream'] = 'Medical'"
   ],
   "id": "a1dfb959de8d9b81",
   "outputs": [],
   "execution_count": 38
  },
  {
   "metadata": {
    "ExecuteTime": {
     "end_time": "2025-09-18T17:56:28.434099Z",
     "start_time": "2025-09-18T17:56:28.317465Z"
    }
   },
   "cell_type": "code",
   "source": [
    "print(\"Combining and cleaning data...\")\n",
    "combined_df = pd.concat([df_eng_processed, df_med_processed], ignore_index=True)\n",
    "combined_df.dropna(inplace=True)\n",
    "combined_df = combined_df[combined_df['closing_rank'] > 0]\n"
   ],
   "id": "a598386981d26586",
   "outputs": [
    {
     "name": "stdout",
     "output_type": "stream",
     "text": [
      "Combining and cleaning data...\n"
     ]
    }
   ],
   "execution_count": 39
  },
  {
   "metadata": {
    "ExecuteTime": {
     "end_time": "2025-09-18T17:57:34.297062Z",
     "start_time": "2025-09-18T17:57:34.110034Z"
    }
   },
   "cell_type": "code",
   "source": [
    "combined_df.to_csv(OUTPUT_CSV_PATH, index=False)\n",
    "print(f\"✅ New combined dataset with 'round_no' saved successfully to: {OUTPUT_CSV_PATH}\")"
   ],
   "id": "23732673f4d4c660",
   "outputs": [
    {
     "name": "stdout",
     "output_type": "stream",
     "text": [
      "✅ New combined dataset with 'round_no' saved successfully to: D:/fastapi/data/New folder/combined_college_data.csv\n"
     ]
    }
   ],
   "execution_count": 43
  },
  {
   "metadata": {
    "ExecuteTime": {
     "end_time": "2025-09-18T17:57:35.252288Z",
     "start_time": "2025-09-18T17:57:35.228436Z"
    }
   },
   "cell_type": "code",
   "source": [
    "print(\"\\nPreview of the combined data:\")\n",
    "display(combined_df.head())"
   ],
   "id": "22842df0b58870ce",
   "outputs": [
    {
     "name": "stdout",
     "output_type": "stream",
     "text": [
      "\n",
      "Preview of the combined data:\n"
     ]
    },
    {
     "data": {
      "text/plain": [
       "  institute_short institute_type quota category  closing_rank  round_no  \\\n",
       "0      IIT-Bombay            IIT    AI      GEN          1841         6   \n",
       "1      IIT-Bombay            IIT    AI  OBC-NCL          1098         6   \n",
       "2      IIT-Bombay            IIT    AI       SC           468         6   \n",
       "3      IIT-Bombay            IIT    AI       ST           145         6   \n",
       "4      IIT-Bombay            IIT    AI  GEN-PWD            94         6   \n",
       "\n",
       "        stream  \n",
       "0  Engineering  \n",
       "1  Engineering  \n",
       "2  Engineering  \n",
       "3  Engineering  \n",
       "4  Engineering  "
      ],
      "text/html": [
       "<div>\n",
       "<style scoped>\n",
       "    .dataframe tbody tr th:only-of-type {\n",
       "        vertical-align: middle;\n",
       "    }\n",
       "\n",
       "    .dataframe tbody tr th {\n",
       "        vertical-align: top;\n",
       "    }\n",
       "\n",
       "    .dataframe thead th {\n",
       "        text-align: right;\n",
       "    }\n",
       "</style>\n",
       "<table border=\"1\" class=\"dataframe\">\n",
       "  <thead>\n",
       "    <tr style=\"text-align: right;\">\n",
       "      <th></th>\n",
       "      <th>institute_short</th>\n",
       "      <th>institute_type</th>\n",
       "      <th>quota</th>\n",
       "      <th>category</th>\n",
       "      <th>closing_rank</th>\n",
       "      <th>round_no</th>\n",
       "      <th>stream</th>\n",
       "    </tr>\n",
       "  </thead>\n",
       "  <tbody>\n",
       "    <tr>\n",
       "      <th>0</th>\n",
       "      <td>IIT-Bombay</td>\n",
       "      <td>IIT</td>\n",
       "      <td>AI</td>\n",
       "      <td>GEN</td>\n",
       "      <td>1841</td>\n",
       "      <td>6</td>\n",
       "      <td>Engineering</td>\n",
       "    </tr>\n",
       "    <tr>\n",
       "      <th>1</th>\n",
       "      <td>IIT-Bombay</td>\n",
       "      <td>IIT</td>\n",
       "      <td>AI</td>\n",
       "      <td>OBC-NCL</td>\n",
       "      <td>1098</td>\n",
       "      <td>6</td>\n",
       "      <td>Engineering</td>\n",
       "    </tr>\n",
       "    <tr>\n",
       "      <th>2</th>\n",
       "      <td>IIT-Bombay</td>\n",
       "      <td>IIT</td>\n",
       "      <td>AI</td>\n",
       "      <td>SC</td>\n",
       "      <td>468</td>\n",
       "      <td>6</td>\n",
       "      <td>Engineering</td>\n",
       "    </tr>\n",
       "    <tr>\n",
       "      <th>3</th>\n",
       "      <td>IIT-Bombay</td>\n",
       "      <td>IIT</td>\n",
       "      <td>AI</td>\n",
       "      <td>ST</td>\n",
       "      <td>145</td>\n",
       "      <td>6</td>\n",
       "      <td>Engineering</td>\n",
       "    </tr>\n",
       "    <tr>\n",
       "      <th>4</th>\n",
       "      <td>IIT-Bombay</td>\n",
       "      <td>IIT</td>\n",
       "      <td>AI</td>\n",
       "      <td>GEN-PWD</td>\n",
       "      <td>94</td>\n",
       "      <td>6</td>\n",
       "      <td>Engineering</td>\n",
       "    </tr>\n",
       "  </tbody>\n",
       "</table>\n",
       "</div>"
      ]
     },
     "metadata": {},
     "output_type": "display_data",
     "jetTransient": {
      "display_id": null
     }
    }
   ],
   "execution_count": 44
  },
  {
   "metadata": {
    "ExecuteTime": {
     "end_time": "2025-09-18T09:46:52.139287Z",
     "start_time": "2025-09-18T09:46:52.128460Z"
    }
   },
   "cell_type": "code",
   "source": "",
   "id": "eaa224393d0cebea",
   "outputs": [],
   "execution_count": null
  },
  {
   "metadata": {},
   "cell_type": "code",
   "outputs": [],
   "execution_count": null,
   "source": "",
   "id": "7b28908143ca7bec"
  }
 ],
 "metadata": {
  "kernelspec": {
   "display_name": "Python 3",
   "language": "python",
   "name": "python3"
  },
  "language_info": {
   "codemirror_mode": {
    "name": "ipython",
    "version": 2
   },
   "file_extension": ".py",
   "mimetype": "text/x-python",
   "name": "python",
   "nbconvert_exporter": "python",
   "pygments_lexer": "ipython2",
   "version": "2.7.6"
  }
 },
 "nbformat": 4,
 "nbformat_minor": 5
}
